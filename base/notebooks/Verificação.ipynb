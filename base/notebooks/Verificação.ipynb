{
 "cells": [
  {
   "cell_type": "code",
   "execution_count": null,
   "id": "101e9ed1-d141-423b-95fc-6540ee05b247",
   "metadata": {},
   "outputs": [],
   "source": [
    "from pyspark.sql import SparkSession\n",
    "from pyspark.sql.functions import from_json, col\n",
    "from pyspark.sql.types import StructType, StructField, StringType, IntegerType, TimestampType"
   ]
  },
  {
   "cell_type": "code",
   "execution_count": null,
   "id": "1e9dec9c-087a-426b-b9b7-d67254522be8",
   "metadata": {},
   "outputs": [],
   "source": [
    "spark = SparkSession.builder \\\n",
    "    .appName(\"Test App\") \\\n",
    "    .config(\"spark.submit.deployMode\", \"client\") \\\n",
    "    .config(\"spark.yarn.queue\", \"default\")\\\n",
    "    .config(\"spark.serializer\", \"org.apache.spark.serializer.KryoSerializer\") \\\n",
    "    .config(\"spark.kryo.registrationRequired\", \"false\")\\\n",
    "    .getOrCreate()"
   ]
  },
  {
   "cell_type": "code",
   "execution_count": null,
   "id": "d1ac75dd-7d58-4679-9905-58490ade1d56",
   "metadata": {
    "scrolled": true
   },
   "outputs": [],
   "source": [
    "try:\n",
    "    spark.read.parquet(\"hdfs://hadoop-namenode:8020/datalake/bronze/matchs/*/*.parquet\").count()\n",
    "except AnalysisException as e:\n",
    "    print(f\"Erro do Spark ao acessar os dados: {e}\")"
   ]
  },
  {
   "cell_type": "code",
   "execution_count": null,
   "id": "619faa7c-4db4-4695-b8ce-3cd3bd094669",
   "metadata": {
    "scrolled": true
   },
   "outputs": [],
   "source": [
    "try:\n",
    "    spark.read.parquet(\"hdfs://hadoop-namenode:8020/datalake/bronze/matchs/*/*.parquet\").show(1,False)\n",
    "except AnalysisException as e:\n",
    "    print(f\"Erro do Spark ao acessar os dados: {e}\")"
   ]
  },
  {
   "cell_type": "code",
   "execution_count": null,
   "id": "15d10d1e-b231-4daf-b3c2-fbba7869b270",
   "metadata": {},
   "outputs": [],
   "source": [
    "try:\n",
    "    spark.read.parquet(\"hdfs://hadoop-namenode:8020/datalake/silver/games/*/*.parquet\").show(10,False) \n",
    "except AnalysisException as e:\n",
    "    print(f\"Erro do Spark ao acessar os dados: {e}\")"
   ]
  },
  {
   "cell_type": "code",
   "execution_count": null,
   "id": "e675d142-20ab-4f6f-bfa3-ed91d4dc0587",
   "metadata": {},
   "outputs": [],
   "source": [
    "try:\n",
    "    spark.read.parquet(\"hdfs://hadoop-namenode:8020/datalake/silver/participants/*/*.parquet\").filter(col(\"match_id\")==3028715261).orderBy(\"win\").show(30,False) \n",
    "except AnalysisException as e:\n",
    "    print(f\"Erro do Spark ao acessar os dados: {e}\")"
   ]
  },
  {
   "cell_type": "code",
   "execution_count": null,
   "id": "6e8c5862-623f-4e0d-9a13-299768276eb5",
   "metadata": {},
   "outputs": [],
   "source": [
    "try:\n",
    "    spark.read.parquet(\"hdfs://hadoop-namenode:8020/datalake/silver/teams_bans/*/*.parquet\").show(10,False) \n",
    "except AnalysisException as e:\n",
    "    print(f\"Erro do Spark ao acessar os dados: {e}\")"
   ]
  },
  {
   "cell_type": "code",
   "execution_count": null,
   "id": "03841eb5-d39e-4e0e-aaf2-70a226963733",
   "metadata": {},
   "outputs": [],
   "source": [
    "try:\n",
    "    spark.read.parquet(\"hdfs://hadoop-namenode:8020/datalake/silver/teams_stats/*/*.parquet\").show(10,False) \n",
    "except AnalysisException as e:\n",
    "    print(f\"Erro do Spark ao acessar os dados: {e}\")"
   ]
  },
  {
   "cell_type": "code",
   "execution_count": null,
   "id": "c5cc1a5f-5ef2-478b-aef9-7e8cbb5789b2",
   "metadata": {},
   "outputs": [],
   "source": [
    "try:\n",
    "    spark.read.parquet(\"hdfs://hadoop-namenode:8020/datalake/gold/match_summary/*/*.parquet\").show(10,False) \n",
    "except AnalysisException as e:\n",
    "    print(f\"Erro do Spark ao acessar os dados: {e}\")"
   ]
  },
  {
   "cell_type": "code",
   "execution_count": null,
   "id": "b6c38057-1861-4efe-945f-a36ae7ab0c5c",
   "metadata": {},
   "outputs": [],
   "source": [
    "try:\n",
    "    spark.read.parquet(\"hdfs://hadoop-namenode:8020/datalake/gold/player_performance/*/*.parquet\").show(10,False) \n",
    "except AnalysisException as e:\n",
    "    print(f\"Erro do Spark ao acessar os dados: {e}\")"
   ]
  },
  {
   "cell_type": "code",
   "execution_count": null,
   "id": "d0bb2782-c1ac-4930-ae78-d2024eaa2f8e",
   "metadata": {},
   "outputs": [],
   "source": [
    "try:\n",
    "    spark.read.parquet(\"hdfs://hadoop-namenode:8020/datalake/gold/team_performance/*/*.parquet\").show(10,False) \n",
    "except AnalysisException as e:\n",
    "    print(f\"Erro do Spark ao acessar os dados: {e}\")"
   ]
  },
  {
   "cell_type": "code",
   "execution_count": null,
   "id": "eb0f25e9-cb49-4771-8e82-61753876f499",
   "metadata": {},
   "outputs": [],
   "source": []
  },
  {
   "cell_type": "code",
   "execution_count": null,
   "id": "9e7acafd-03fb-49a0-bd95-f0121097f40b",
   "metadata": {},
   "outputs": [],
   "source": [
    "partition_date=\"2024-12-17\"\n",
    "\n",
    "silver_path_games = \"hdfs://hadoop-namenode:8020/datalake/silver/games\"\n",
    "df  = spark.read.parquet(f\"{silver_path_games}/partition_date={partition_date}\").withColumn(\"partition_date\", current_date())\n",
    "df"
   ]
  }
 ],
 "metadata": {
  "kernelspec": {
   "display_name": "Python 3 (ipykernel)",
   "language": "python",
   "name": "python3"
  },
  "language_info": {
   "codemirror_mode": {
    "name": "ipython",
    "version": 3
   },
   "file_extension": ".py",
   "mimetype": "text/x-python",
   "name": "python",
   "nbconvert_exporter": "python",
   "pygments_lexer": "ipython3",
   "version": "3.11.6"
  }
 },
 "nbformat": 4,
 "nbformat_minor": 5
}
