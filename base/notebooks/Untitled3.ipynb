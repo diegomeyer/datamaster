{
 "cells": [
  {
   "cell_type": "code",
   "execution_count": 8,
   "id": "62e6b7b2-3a5e-4a68-a73e-b6e3167ba0d1",
   "metadata": {},
   "outputs": [],
   "source": [
    "from pyspark.sql.types import *\n",
    "\n",
    "# Schema do JSON para uso com from_json\n",
    "# Ajustando o schema para o campo 'objectives'\n",
    "teams_schema = StructType([\n",
    "    StructField(\"teamId\", IntegerType(), True),\n",
    "    StructField(\"win\", BooleanType(), True),\n",
    "    StructField(\"objectives\", StructType([\n",
    "        # Ajuste aqui - Substitua por MapType ou NullType para evitar erro\n",
    "        StructField(\"baron\", MapType(StringType(), StringType()), True),\n",
    "        StructField(\"dragon\", MapType(StringType(), StringType()), True),\n",
    "        StructField(\"tower\", MapType(StringType(), StringType()), True)\n",
    "    ]), True)\n",
    "])\n",
    "\n",
    "# Exemplo de esquema ajustado para o JSON completo\n",
    "schema = StructType([\n",
    "    StructField(\"endOfGameResult\", StringType(), True),\n",
    "    StructField(\"gameCreation\", DoubleType(), True),\n",
    "    StructField(\"gameDuration\", DoubleType(), True),\n",
    "    StructField(\"gameEndTimestamp\", DoubleType(), True),\n",
    "    StructField(\"gameId\", DoubleType(), True),\n",
    "    StructField(\"gameMode\", StringType(), True),\n",
    "    StructField(\"gameName\", StringType(), True),\n",
    "    StructField(\"gameStartTimestamp\", DoubleType(), True),\n",
    "    StructField(\"gameType\", StringType(), True),\n",
    "    StructField(\"gameVersion\", StringType(), True),\n",
    "    StructField(\"mapId\", IntegerType(), True),\n",
    "    StructField(\"platformId\", StringType(), True),\n",
    "    StructField(\"queueId\", IntegerType(), True),\n",
    "    StructField(\"participants\", ArrayType(\n",
    "        StructType([\n",
    "            StructField(\"championId\", IntegerType(), True),\n",
    "            StructField(\"championName\", StringType(), True),\n",
    "            StructField(\"teamId\", IntegerType(), True),\n",
    "            StructField(\"win\", BooleanType(), True)\n",
    "        ])\n",
    "    ), True),\n",
    "    StructField(\"teams\", ArrayType(teams_schema), True)\n",
    "])"
   ]
  },
  {
   "cell_type": "code",
   "execution_count": 9,
   "id": "ab9f5c18-81c4-40fa-836f-332f335e7a6c",
   "metadata": {},
   "outputs": [
    {
     "name": "stdout",
     "output_type": "stream",
     "text": [
      "+---------------+------------+------------+----------------+------------+--------+--------+------------------+--------+-----------+-----+----------+-------+-------------------------+--------------------------------------------------------------------------------------------------------+\n",
      "|endOfGameResult|gameCreation|gameDuration|gameEndTimestamp|gameId      |gameMode|gameName|gameStartTimestamp|gameType|gameVersion|mapId|platformId|queueId|participants             |teams                                                                                                   |\n",
      "+---------------+------------+------------+----------------+------------+--------+--------+------------------+--------+-----------+-----+----------+-------+-------------------------+--------------------------------------------------------------------------------------------------------+\n",
      "|Victory        |NULL        |NULL        |NULL            |1.23456789E9|NULL    |NULL    |NULL              |NULL    |NULL       |NULL |NULL      |NULL   |[{157, Yasuo, 100, true}]|[{100, true, {{first -> false, kills -> 1}, {first -> true, kills -> 2}, {first -> false, kills -> 3}}}]|\n",
      "+---------------+------------+------------+----------------+------------+--------+--------+------------------+--------+-----------+-----+----------+-------+-------------------------+--------------------------------------------------------------------------------------------------------+\n",
      "\n"
     ]
    }
   ],
   "source": [
    "from pyspark.sql import SparkSession\n",
    "from pyspark.sql.functions import from_json, col\n",
    "\n",
    "spark = SparkSession.builder.appName(\"KafkaJsonProcessing\").getOrCreate()\n",
    "\n",
    "# Exemplo de DataFrame com uma coluna contendo JSON\n",
    "data = [(\n",
    "    '{\"endOfGameResult\": \"Victory\", \"gameId\": 1234567890, \"participants\": [{\"championId\": 157, \"championName\": \"Yasuo\", \"teamId\": 100, \"win\": true}], \"teams\": [{\"teamId\": 100, \"win\": true, \"objectives\": {\"baron\": {\"first\": false, \"kills\": 1}, \"dragon\": {\"first\": true, \"kills\": 2}, \"tower\": {\"first\": false, \"kills\": 3}}}]}' \n",
    ",)]\n",
    "\n",
    "df = spark.createDataFrame(data, [\"json_data\"])\n",
    "\n",
    "# Analisar o JSON utilizando o schema\n",
    "df_parsed = df.withColumn(\"parsed_data\", from_json(col(\"json_data\"), schema))\n",
    "\n",
    "# Selecionar e mostrar os dados analisados\n",
    "df_parsed.select(\"parsed_data.*\").show(truncate=False)"
   ]
  }
 ],
 "metadata": {
  "kernelspec": {
   "display_name": "Python 3 (ipykernel)",
   "language": "python",
   "name": "python3"
  },
  "language_info": {
   "codemirror_mode": {
    "name": "ipython",
    "version": 3
   },
   "file_extension": ".py",
   "mimetype": "text/x-python",
   "name": "python",
   "nbconvert_exporter": "python",
   "pygments_lexer": "ipython3",
   "version": "3.11.6"
  }
 },
 "nbformat": 4,
 "nbformat_minor": 5
}
