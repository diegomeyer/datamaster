{
 "cells": [
  {
   "cell_type": "code",
   "execution_count": null,
   "id": "4499d906-7b6f-4ad9-bd40-674770a7a87e",
   "metadata": {},
   "outputs": [],
   "source": [
    "!pip install plotly"
   ]
  },
  {
   "cell_type": "code",
   "execution_count": null,
   "id": "12b85062-8df0-484c-9774-48b0f780c202",
   "metadata": {},
   "outputs": [],
   "source": [
    "from pyspark.sql import SparkSession\n",
    "from pyspark.sql.functions import col, date_format, count\n",
    "import pandas as pd\n",
    "import plotly.express as px\n",
    "\n",
    "# Inicia uma sessão Spark\n",
    "spark = SparkSession.builder \\\n",
    "    .appName(\"Parquet Processing\") \\\n",
    "    .getOrCreate()\n",
    "\n",
    "# Substitua pelo caminho do seu arquivo Parquet\n",
    "file_path = \"hdfs://hadoop-namenode:8020/datalake/bronze/matchs/*/*.parquet\"\n",
    "\n",
    "# Lê o arquivo Parquet em um DataFrame\n",
    "spark_df = spark.read.parquet(file_path)\n",
    "\n",
    "# Seleciona e converte as colunas de timestamp para string formatada por minuto\n",
    "# Isso permite calcular o processamento por minuto\n",
    "summoner_df = spark_df.select(date_format(col(\"timestamp_summoner\"), \"yyyy-MM-dd HH:mm\").alias(\"minute_summoner\"))\n",
    "details_df = spark_df.select(date_format(col(\"timestamp_summoner_details\"), \"yyyy-MM-dd HH:mm\").alias(\"minute_details\"))\n",
    "match_df = spark_df.select(date_format(col(\"timestamp_match\"), \"yyyy-MM-dd HH:mm\").alias(\"minute_match\"))\n",
    "\n",
    "# Conta o número de registros por minuto para cada etapa\n",
    "summoner_counts = summoner_df.groupBy(\"minute_summoner\").agg(count(\"*\").alias(\"summoner\")).toPandas()\n",
    "details_counts = details_df.groupBy(\"minute_details\").agg(count(\"*\").alias(\"summoner_details\")).toPandas()\n",
    "match_counts = match_df.groupBy(\"minute_match\").agg(count(\"*\").alias(\"match\")).toPandas()\n",
    "\n",
    "# Renomeia as colunas para facilitar a mesclagem\n",
    "summoner_counts.rename(columns={\"minute_summoner\": \"minute\"}, inplace=True)\n",
    "details_counts.rename(columns={\"minute_details\": \"minute\"}, inplace=True)\n",
    "match_counts.rename(columns={\"minute_match\": \"minute\"}, inplace=True)\n",
    "\n",
    "# Mescla os resultados em um único DataFrame Pandas\n",
    "combined_counts = pd.merge(summoner_counts, details_counts, on=\"minute\", how=\"outer\")\n",
    "combined_counts = pd.merge(combined_counts, match_counts, on=\"minute\", how=\"outer\")\n",
    "\n",
    "# Preenche valores nulos com zero\n",
    "combined_counts.fillna(0, inplace=True)\n",
    "\n",
    "# Converte a coluna \"minute\" para datetime para ordenação correta no gráfico\n",
    "combined_counts[\"minute\"] = pd.to_datetime(combined_counts[\"minute\"])\n",
    "\n",
    "# Ordena os dados por tempo\n",
    "combined_counts.sort_values(by=\"minute\", inplace=True)\n",
    "\n",
    "# Gera o gráfico interativo\n",
    "fig = px.line(\n",
    "    combined_counts,\n",
    "    x=\"minute\",\n",
    "    y=[\"summoner\", \"summoner_details\", \"match\"],\n",
    "    labels={\"minute\": \"Minute\", \"value\": \"Processamento por Minuto\", \"variable\": \"Etapa\"},\n",
    "    title=\"Processamento por Minuto em Cada Etapa\"\n",
    ")\n",
    "\n",
    "# Exibe o gráfico\n",
    "fig.show()"
   ]
  },
  {
   "cell_type": "code",
   "execution_count": null,
   "id": "5de2ec74-5fc0-445d-aae6-1b71951b616a",
   "metadata": {},
   "outputs": [],
   "source": []
  }
 ],
 "metadata": {
  "kernelspec": {
   "display_name": "Python 3 (ipykernel)",
   "language": "python",
   "name": "python3"
  },
  "language_info": {
   "codemirror_mode": {
    "name": "ipython",
    "version": 3
   },
   "file_extension": ".py",
   "mimetype": "text/x-python",
   "name": "python",
   "nbconvert_exporter": "python",
   "pygments_lexer": "ipython3",
   "version": "3.11.6"
  }
 },
 "nbformat": 4,
 "nbformat_minor": 5
}
